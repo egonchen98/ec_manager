{
 "cells": [
  {
   "cell_type": "code",
   "execution_count": 1,
   "metadata": {
    "collapsed": true,
    "ExecuteTime": {
     "start_time": "2023-04-26T14:22:09.830959Z",
     "end_time": "2023-04-26T14:22:10.869237Z"
    }
   },
   "outputs": [],
   "source": [
    "import xarray as xr\n",
    "import itertools\n",
    "from calendar import monthrange\n",
    "import pandas as pd\n",
    "import numpy as np\n",
    "import cfgrib"
   ]
  },
  {
   "cell_type": "code",
   "execution_count": 4,
   "outputs": [
    {
     "data": {
      "text/plain": "18.21"
     },
     "execution_count": 4,
     "metadata": {},
     "output_type": "execute_result"
    }
   ],
   "source": [
    "hum = ['07', '1D']\n",
    "tep = ['07', '02']\n",
    "\n",
    "temp = hum\n",
    "temp = (int(temp[0], 16)*256 + int(temp[1], 16))/100\n",
    "temp\n"
   ],
   "metadata": {
    "collapsed": false,
    "ExecuteTime": {
     "start_time": "2023-04-28T11:58:33.782818Z",
     "end_time": "2023-04-28T11:58:33.798575Z"
    }
   }
  },
  {
   "cell_type": "code",
   "execution_count": 2,
   "outputs": [
    {
     "ename": "TypeError",
     "evalue": "list.extend() takes exactly one argument (2 given)",
     "output_type": "error",
     "traceback": [
      "\u001B[1;31m---------------------------------------------------------------------------\u001B[0m",
      "\u001B[1;31mTypeError\u001B[0m                                 Traceback (most recent call last)",
      "Cell \u001B[1;32mIn[2], line 4\u001B[0m\n\u001B[0;32m      2\u001B[0m b \u001B[38;5;241m=\u001B[39m [\u001B[38;5;124m'\u001B[39m\u001B[38;5;124madsf\u001B[39m\u001B[38;5;124m'\u001B[39m]\n\u001B[0;32m      3\u001B[0m c \u001B[38;5;241m=\u001B[39m [\u001B[38;5;124m'\u001B[39m\u001B[38;5;124masd\u001B[39m\u001B[38;5;124m'\u001B[39m]\n\u001B[1;32m----> 4\u001B[0m d \u001B[38;5;241m=\u001B[39m \u001B[43ma\u001B[49m\u001B[38;5;241;43m.\u001B[39;49m\u001B[43mextend\u001B[49m\u001B[43m(\u001B[49m\u001B[43ma\u001B[49m\u001B[43m,\u001B[49m\u001B[43m \u001B[49m\u001B[43mb\u001B[49m\u001B[43m)\u001B[49m\n\u001B[0;32m      5\u001B[0m d\n",
      "\u001B[1;31mTypeError\u001B[0m: list.extend() takes exactly one argument (2 given)"
     ]
    }
   ],
   "source": [
    "a = [12, 3]\n",
    "b = ['adsf']\n",
    "c = ['asd']\n",
    "d = a.extend(a, b)\n",
    "d\n"
   ],
   "metadata": {
    "collapsed": false,
    "ExecuteTime": {
     "start_time": "2023-04-28T17:27:50.589966Z",
     "end_time": "2023-04-28T17:27:50.603735Z"
    }
   }
  },
  {
   "cell_type": "code",
   "execution_count": 3,
   "outputs": [
    {
     "name": "stderr",
     "output_type": "stream",
     "text": [
      "Can't create file 'C:\\\\Users\\\\Daryl\\\\Downloads\\\\1.grib.grib.923a8.idx'\n",
      "Traceback (most recent call last):\n",
      "  File \"C:\\Users\\Daryl\\.conda\\envs\\scientific\\Lib\\site-packages\\cfgrib\\messages.py\", line 273, in itervalues\n",
      "    yield self.filestream.message_from_file(file, errors=errors)\n",
      "          ^^^^^^^^^^^^^^^^^^^^^^^^^^^^^^^^^^^^^^^^^^^^^^^^^^^^^^\n",
      "  File \"C:\\Users\\Daryl\\.conda\\envs\\scientific\\Lib\\site-packages\\cfgrib\\messages.py\", line 340, in message_from_file\n",
      "    return Message.from_file(file, offset, **kwargs)\n",
      "           ^^^^^^^^^^^^^^^^^^^^^^^^^^^^^^^^^^^^^^^^^\n",
      "  File \"C:\\Users\\Daryl\\.conda\\envs\\scientific\\Lib\\site-packages\\cfgrib\\messages.py\", line 104, in from_file\n",
      "    raise EOFError(\"End of file: %r\" % file)\n",
      "EOFError: End of file: <_io.BufferedReader name='C:\\\\Users\\\\Daryl\\\\Downloads\\\\1.grib.grib'>\n",
      "\n",
      "During handling of the above exception, another exception occurred:\n",
      "\n",
      "Traceback (most recent call last):\n",
      "  File \"C:\\Users\\Daryl\\.conda\\envs\\scientific\\Lib\\site-packages\\cfgrib\\messages.py\", line 535, in from_indexpath_or_filestream\n",
      "    self = cls.from_fieldset(filestream, index_keys, computed_keys)\n",
      "           ^^^^^^^^^^^^^^^^^^^^^^^^^^^^^^^^^^^^^^^^^^^^^^^^^^^^^^^^\n",
      "  File \"C:\\Users\\Daryl\\.conda\\envs\\scientific\\Lib\\site-packages\\cfgrib\\messages.py\", line 378, in from_fieldset\n",
      "    return cls.from_fieldset_and_iteritems(fieldset, iteritems, index_keys, computed_keys)\n",
      "           ^^^^^^^^^^^^^^^^^^^^^^^^^^^^^^^^^^^^^^^^^^^^^^^^^^^^^^^^^^^^^^^^^^^^^^^^^^^^^^^\n",
      "  File \"C:\\Users\\Daryl\\.conda\\envs\\scientific\\Lib\\site-packages\\cfgrib\\messages.py\", line 391, in from_fieldset_and_iteritems\n",
      "    for field_id, raw_field in iteritems:\n",
      "  File \"C:\\Users\\Daryl\\.conda\\envs\\scientific\\Lib\\site-packages\\cfgrib\\messages.py\", line 291, in __iter__\n",
      "    for message in self.itervalues():\n",
      "  File \"C:\\Users\\Daryl\\.conda\\envs\\scientific\\Lib\\site-packages\\cfgrib\\messages.py\", line 277, in itervalues\n",
      "    raise EOFError(\"No valid message found: %r\" % self.filestream.path)\n",
      "EOFError: No valid message found: 'C:\\\\Users\\\\Daryl\\\\Downloads\\\\1.grib.grib'\n",
      "Can't read index file 'C:\\\\Users\\\\Daryl\\\\Downloads\\\\1.grib.grib.923a8.idx'\n",
      "Traceback (most recent call last):\n",
      "  File \"C:\\Users\\Daryl\\.conda\\envs\\scientific\\Lib\\site-packages\\cfgrib\\messages.py\", line 544, in from_indexpath_or_filestream\n",
      "    index_mtime = os.path.getmtime(indexpath)\n",
      "                  ^^^^^^^^^^^^^^^^^^^^^^^^^^^\n",
      "  File \"<frozen genericpath>\", line 55, in getmtime\n",
      "FileNotFoundError: [WinError 2] The system cannot find the file specified: 'C:\\\\Users\\\\Daryl\\\\Downloads\\\\1.grib.grib.923a8.idx'\n"
     ]
    },
    {
     "ename": "EOFError",
     "evalue": "No valid message found: 'C:\\\\Users\\\\Daryl\\\\Downloads\\\\1.grib.grib'",
     "output_type": "error",
     "traceback": [
      "\u001B[1;31m---------------------------------------------------------------------------\u001B[0m",
      "\u001B[1;31mEOFError\u001B[0m                                  Traceback (most recent call last)",
      "File \u001B[1;32m~\\.conda\\envs\\scientific\\Lib\\site-packages\\cfgrib\\messages.py:273\u001B[0m, in \u001B[0;36mFileStreamItems.itervalues\u001B[1;34m(self)\u001B[0m\n\u001B[0;32m    272\u001B[0m \u001B[38;5;28;01mtry\u001B[39;00m:\n\u001B[1;32m--> 273\u001B[0m     \u001B[38;5;28;01myield\u001B[39;00m \u001B[38;5;28;43mself\u001B[39;49m\u001B[38;5;241;43m.\u001B[39;49m\u001B[43mfilestream\u001B[49m\u001B[38;5;241;43m.\u001B[39;49m\u001B[43mmessage_from_file\u001B[49m\u001B[43m(\u001B[49m\u001B[43mfile\u001B[49m\u001B[43m,\u001B[49m\u001B[43m \u001B[49m\u001B[43merrors\u001B[49m\u001B[38;5;241;43m=\u001B[39;49m\u001B[43merrors\u001B[49m\u001B[43m)\u001B[49m\n\u001B[0;32m    274\u001B[0m     valid_message_found \u001B[38;5;241m=\u001B[39m \u001B[38;5;28;01mTrue\u001B[39;00m\n",
      "File \u001B[1;32m~\\.conda\\envs\\scientific\\Lib\\site-packages\\cfgrib\\messages.py:340\u001B[0m, in \u001B[0;36mFileStream.message_from_file\u001B[1;34m(self, file, offset, **kwargs)\u001B[0m\n\u001B[0;32m    338\u001B[0m \u001B[38;5;28;01mdef\u001B[39;00m \u001B[38;5;21mmessage_from_file\u001B[39m(\u001B[38;5;28mself\u001B[39m, file, offset\u001B[38;5;241m=\u001B[39m\u001B[38;5;28;01mNone\u001B[39;00m, \u001B[38;5;241m*\u001B[39m\u001B[38;5;241m*\u001B[39mkwargs):\n\u001B[0;32m    339\u001B[0m     \u001B[38;5;66;03m# type: (T.IO[bytes], T.Optional[OffsetType], T.Any) -> Message\u001B[39;00m\n\u001B[1;32m--> 340\u001B[0m     \u001B[38;5;28;01mreturn\u001B[39;00m \u001B[43mMessage\u001B[49m\u001B[38;5;241;43m.\u001B[39;49m\u001B[43mfrom_file\u001B[49m\u001B[43m(\u001B[49m\u001B[43mfile\u001B[49m\u001B[43m,\u001B[49m\u001B[43m \u001B[49m\u001B[43moffset\u001B[49m\u001B[43m,\u001B[49m\u001B[43m \u001B[49m\u001B[38;5;241;43m*\u001B[39;49m\u001B[38;5;241;43m*\u001B[39;49m\u001B[43mkwargs\u001B[49m\u001B[43m)\u001B[49m\n",
      "File \u001B[1;32m~\\.conda\\envs\\scientific\\Lib\\site-packages\\cfgrib\\messages.py:104\u001B[0m, in \u001B[0;36mMessage.from_file\u001B[1;34m(cls, file, offset, **kwargs)\u001B[0m\n\u001B[0;32m    103\u001B[0m \u001B[38;5;28;01mif\u001B[39;00m codes_id \u001B[38;5;129;01mis\u001B[39;00m \u001B[38;5;28;01mNone\u001B[39;00m:\n\u001B[1;32m--> 104\u001B[0m     \u001B[38;5;28;01mraise\u001B[39;00m \u001B[38;5;167;01mEOFError\u001B[39;00m(\u001B[38;5;124m\"\u001B[39m\u001B[38;5;124mEnd of file: \u001B[39m\u001B[38;5;132;01m%r\u001B[39;00m\u001B[38;5;124m\"\u001B[39m \u001B[38;5;241m%\u001B[39m file)\n\u001B[0;32m    105\u001B[0m \u001B[38;5;28;01mreturn\u001B[39;00m \u001B[38;5;28mcls\u001B[39m(codes_id\u001B[38;5;241m=\u001B[39mcodes_id, \u001B[38;5;241m*\u001B[39m\u001B[38;5;241m*\u001B[39mkwargs)\n",
      "\u001B[1;31mEOFError\u001B[0m: End of file: <_io.BufferedReader name='C:\\\\Users\\\\Daryl\\\\Downloads\\\\1.grib.grib'>",
      "\nDuring handling of the above exception, another exception occurred:\n",
      "\u001B[1;31mEOFError\u001B[0m                                  Traceback (most recent call last)",
      "Cell \u001B[1;32mIn[3], line 1\u001B[0m\n\u001B[1;32m----> 1\u001B[0m ds \u001B[38;5;241m=\u001B[39m \u001B[43mxr\u001B[49m\u001B[38;5;241;43m.\u001B[39;49m\u001B[43mload_dataset\u001B[49m\u001B[43m(\u001B[49m\u001B[38;5;124;43mr\u001B[39;49m\u001B[38;5;124;43m\"\u001B[39;49m\u001B[38;5;124;43mC:\u001B[39;49m\u001B[38;5;124;43m\\\u001B[39;49m\u001B[38;5;124;43mUsers\u001B[39;49m\u001B[38;5;124;43m\\\u001B[39;49m\u001B[38;5;124;43mDaryl\u001B[39;49m\u001B[38;5;124;43m\\\u001B[39;49m\u001B[38;5;124;43mDownloads\u001B[39;49m\u001B[38;5;124;43m\\\u001B[39;49m\u001B[38;5;124;43m1.grib.grib\u001B[39;49m\u001B[38;5;124;43m\"\u001B[39;49m\u001B[43m,\u001B[49m\u001B[43m \u001B[49m\u001B[43mengine\u001B[49m\u001B[38;5;241;43m=\u001B[39;49m\u001B[38;5;124;43m'\u001B[39;49m\u001B[38;5;124;43mcfgrib\u001B[39;49m\u001B[38;5;124;43m'\u001B[39;49m\u001B[43m)\u001B[49m\n\u001B[0;32m      2\u001B[0m df \u001B[38;5;241m=\u001B[39m ds\u001B[38;5;241m.\u001B[39mto_dataframe()\u001B[38;5;241m.\u001B[39mreset_index()\n\u001B[0;32m      3\u001B[0m df\n",
      "File \u001B[1;32m~\\.conda\\envs\\scientific\\Lib\\site-packages\\xarray\\backends\\api.py:263\u001B[0m, in \u001B[0;36mload_dataset\u001B[1;34m(filename_or_obj, **kwargs)\u001B[0m\n\u001B[0;32m    260\u001B[0m \u001B[38;5;28;01mif\u001B[39;00m \u001B[38;5;124m\"\u001B[39m\u001B[38;5;124mcache\u001B[39m\u001B[38;5;124m\"\u001B[39m \u001B[38;5;129;01min\u001B[39;00m kwargs:\n\u001B[0;32m    261\u001B[0m     \u001B[38;5;28;01mraise\u001B[39;00m \u001B[38;5;167;01mTypeError\u001B[39;00m(\u001B[38;5;124m\"\u001B[39m\u001B[38;5;124mcache has no effect in this context\u001B[39m\u001B[38;5;124m\"\u001B[39m)\n\u001B[1;32m--> 263\u001B[0m \u001B[38;5;28;01mwith\u001B[39;00m \u001B[43mopen_dataset\u001B[49m\u001B[43m(\u001B[49m\u001B[43mfilename_or_obj\u001B[49m\u001B[43m,\u001B[49m\u001B[43m \u001B[49m\u001B[38;5;241;43m*\u001B[39;49m\u001B[38;5;241;43m*\u001B[39;49m\u001B[43mkwargs\u001B[49m\u001B[43m)\u001B[49m \u001B[38;5;28;01mas\u001B[39;00m ds:\n\u001B[0;32m    264\u001B[0m     \u001B[38;5;28;01mreturn\u001B[39;00m ds\u001B[38;5;241m.\u001B[39mload()\n",
      "File \u001B[1;32m~\\.conda\\envs\\scientific\\Lib\\site-packages\\xarray\\backends\\api.py:525\u001B[0m, in \u001B[0;36mopen_dataset\u001B[1;34m(filename_or_obj, engine, chunks, cache, decode_cf, mask_and_scale, decode_times, decode_timedelta, use_cftime, concat_characters, decode_coords, drop_variables, inline_array, backend_kwargs, **kwargs)\u001B[0m\n\u001B[0;32m    513\u001B[0m decoders \u001B[38;5;241m=\u001B[39m _resolve_decoders_kwargs(\n\u001B[0;32m    514\u001B[0m     decode_cf,\n\u001B[0;32m    515\u001B[0m     open_backend_dataset_parameters\u001B[38;5;241m=\u001B[39mbackend\u001B[38;5;241m.\u001B[39mopen_dataset_parameters,\n\u001B[1;32m   (...)\u001B[0m\n\u001B[0;32m    521\u001B[0m     decode_coords\u001B[38;5;241m=\u001B[39mdecode_coords,\n\u001B[0;32m    522\u001B[0m )\n\u001B[0;32m    524\u001B[0m overwrite_encoded_chunks \u001B[38;5;241m=\u001B[39m kwargs\u001B[38;5;241m.\u001B[39mpop(\u001B[38;5;124m\"\u001B[39m\u001B[38;5;124moverwrite_encoded_chunks\u001B[39m\u001B[38;5;124m\"\u001B[39m, \u001B[38;5;28;01mNone\u001B[39;00m)\n\u001B[1;32m--> 525\u001B[0m backend_ds \u001B[38;5;241m=\u001B[39m \u001B[43mbackend\u001B[49m\u001B[38;5;241;43m.\u001B[39;49m\u001B[43mopen_dataset\u001B[49m\u001B[43m(\u001B[49m\n\u001B[0;32m    526\u001B[0m \u001B[43m    \u001B[49m\u001B[43mfilename_or_obj\u001B[49m\u001B[43m,\u001B[49m\n\u001B[0;32m    527\u001B[0m \u001B[43m    \u001B[49m\u001B[43mdrop_variables\u001B[49m\u001B[38;5;241;43m=\u001B[39;49m\u001B[43mdrop_variables\u001B[49m\u001B[43m,\u001B[49m\n\u001B[0;32m    528\u001B[0m \u001B[43m    \u001B[49m\u001B[38;5;241;43m*\u001B[39;49m\u001B[38;5;241;43m*\u001B[39;49m\u001B[43mdecoders\u001B[49m\u001B[43m,\u001B[49m\n\u001B[0;32m    529\u001B[0m \u001B[43m    \u001B[49m\u001B[38;5;241;43m*\u001B[39;49m\u001B[38;5;241;43m*\u001B[39;49m\u001B[43mkwargs\u001B[49m\u001B[43m,\u001B[49m\n\u001B[0;32m    530\u001B[0m \u001B[43m\u001B[49m\u001B[43m)\u001B[49m\n\u001B[0;32m    531\u001B[0m ds \u001B[38;5;241m=\u001B[39m _dataset_from_backend_dataset(\n\u001B[0;32m    532\u001B[0m     backend_ds,\n\u001B[0;32m    533\u001B[0m     filename_or_obj,\n\u001B[1;32m   (...)\u001B[0m\n\u001B[0;32m    541\u001B[0m     \u001B[38;5;241m*\u001B[39m\u001B[38;5;241m*\u001B[39mkwargs,\n\u001B[0;32m    542\u001B[0m )\n\u001B[0;32m    543\u001B[0m \u001B[38;5;28;01mreturn\u001B[39;00m ds\n",
      "File \u001B[1;32m~\\.conda\\envs\\scientific\\Lib\\site-packages\\cfgrib\\xarray_plugin.py:109\u001B[0m, in \u001B[0;36mCfGribBackend.open_dataset\u001B[1;34m(self, filename_or_obj, mask_and_scale, decode_times, concat_characters, decode_coords, drop_variables, use_cftime, decode_timedelta, lock, indexpath, filter_by_keys, read_keys, encode_cf, squeeze, time_dims, errors, extra_coords)\u001B[0m\n\u001B[0;32m     87\u001B[0m \u001B[38;5;28;01mdef\u001B[39;00m \u001B[38;5;21mopen_dataset\u001B[39m(\n\u001B[0;32m     88\u001B[0m     \u001B[38;5;28mself\u001B[39m,\n\u001B[0;32m     89\u001B[0m     filename_or_obj: T\u001B[38;5;241m.\u001B[39mUnion[\u001B[38;5;28mstr\u001B[39m, abc\u001B[38;5;241m.\u001B[39mMappingFieldset[T\u001B[38;5;241m.\u001B[39mAny, abc\u001B[38;5;241m.\u001B[39mField]],\n\u001B[1;32m   (...)\u001B[0m\n\u001B[0;32m    106\u001B[0m     extra_coords: T\u001B[38;5;241m.\u001B[39mDict[\u001B[38;5;28mstr\u001B[39m, \u001B[38;5;28mstr\u001B[39m] \u001B[38;5;241m=\u001B[39m {},\n\u001B[0;32m    107\u001B[0m ) \u001B[38;5;241m-\u001B[39m\u001B[38;5;241m>\u001B[39m xr\u001B[38;5;241m.\u001B[39mDataset:\n\u001B[1;32m--> 109\u001B[0m     store \u001B[38;5;241m=\u001B[39m \u001B[43mCfGribDataStore\u001B[49m\u001B[43m(\u001B[49m\n\u001B[0;32m    110\u001B[0m \u001B[43m        \u001B[49m\u001B[43mfilename_or_obj\u001B[49m\u001B[43m,\u001B[49m\n\u001B[0;32m    111\u001B[0m \u001B[43m        \u001B[49m\u001B[43mindexpath\u001B[49m\u001B[38;5;241;43m=\u001B[39;49m\u001B[43mindexpath\u001B[49m\u001B[43m,\u001B[49m\n\u001B[0;32m    112\u001B[0m \u001B[43m        \u001B[49m\u001B[43mfilter_by_keys\u001B[49m\u001B[38;5;241;43m=\u001B[39;49m\u001B[43mfilter_by_keys\u001B[49m\u001B[43m,\u001B[49m\n\u001B[0;32m    113\u001B[0m \u001B[43m        \u001B[49m\u001B[43mread_keys\u001B[49m\u001B[38;5;241;43m=\u001B[39;49m\u001B[43mread_keys\u001B[49m\u001B[43m,\u001B[49m\n\u001B[0;32m    114\u001B[0m \u001B[43m        \u001B[49m\u001B[43mencode_cf\u001B[49m\u001B[38;5;241;43m=\u001B[39;49m\u001B[43mencode_cf\u001B[49m\u001B[43m,\u001B[49m\n\u001B[0;32m    115\u001B[0m \u001B[43m        \u001B[49m\u001B[43msqueeze\u001B[49m\u001B[38;5;241;43m=\u001B[39;49m\u001B[43msqueeze\u001B[49m\u001B[43m,\u001B[49m\n\u001B[0;32m    116\u001B[0m \u001B[43m        \u001B[49m\u001B[43mtime_dims\u001B[49m\u001B[38;5;241;43m=\u001B[39;49m\u001B[43mtime_dims\u001B[49m\u001B[43m,\u001B[49m\n\u001B[0;32m    117\u001B[0m \u001B[43m        \u001B[49m\u001B[43mlock\u001B[49m\u001B[38;5;241;43m=\u001B[39;49m\u001B[43mlock\u001B[49m\u001B[43m,\u001B[49m\n\u001B[0;32m    118\u001B[0m \u001B[43m        \u001B[49m\u001B[43merrors\u001B[49m\u001B[38;5;241;43m=\u001B[39;49m\u001B[43merrors\u001B[49m\u001B[43m,\u001B[49m\n\u001B[0;32m    119\u001B[0m \u001B[43m        \u001B[49m\u001B[43mextra_coords\u001B[49m\u001B[38;5;241;43m=\u001B[39;49m\u001B[43mextra_coords\u001B[49m\u001B[43m,\u001B[49m\n\u001B[0;32m    120\u001B[0m \u001B[43m    \u001B[49m\u001B[43m)\u001B[49m\n\u001B[0;32m    121\u001B[0m     \u001B[38;5;28;01mwith\u001B[39;00m xr\u001B[38;5;241m.\u001B[39mcore\u001B[38;5;241m.\u001B[39mutils\u001B[38;5;241m.\u001B[39mclose_on_error(store):\n\u001B[0;32m    122\u001B[0m         \u001B[38;5;28mvars\u001B[39m, attrs \u001B[38;5;241m=\u001B[39m store\u001B[38;5;241m.\u001B[39mload()  \u001B[38;5;66;03m# type: ignore\u001B[39;00m\n",
      "File \u001B[1;32m~\\.conda\\envs\\scientific\\Lib\\site-packages\\cfgrib\\xarray_plugin.py:40\u001B[0m, in \u001B[0;36mCfGribDataStore.__init__\u001B[1;34m(self, filename, lock, **backend_kwargs)\u001B[0m\n\u001B[0;32m     38\u001B[0m \u001B[38;5;28;01melse\u001B[39;00m:\n\u001B[0;32m     39\u001B[0m     opener \u001B[38;5;241m=\u001B[39m dataset\u001B[38;5;241m.\u001B[39mopen_fieldset\n\u001B[1;32m---> 40\u001B[0m \u001B[38;5;28mself\u001B[39m\u001B[38;5;241m.\u001B[39mds \u001B[38;5;241m=\u001B[39m \u001B[43mopener\u001B[49m\u001B[43m(\u001B[49m\u001B[43mfilename\u001B[49m\u001B[43m,\u001B[49m\u001B[43m \u001B[49m\u001B[38;5;241;43m*\u001B[39;49m\u001B[38;5;241;43m*\u001B[39;49m\u001B[43mbackend_kwargs\u001B[49m\u001B[43m)\u001B[49m\n",
      "File \u001B[1;32m~\\.conda\\envs\\scientific\\Lib\\site-packages\\cfgrib\\dataset.py:778\u001B[0m, in \u001B[0;36mopen_file\u001B[1;34m(path, grib_errors, indexpath, filter_by_keys, read_keys, time_dims, extra_coords, **kwargs)\u001B[0m\n\u001B[0;32m    775\u001B[0m stream \u001B[38;5;241m=\u001B[39m messages\u001B[38;5;241m.\u001B[39mFileStream(path, errors\u001B[38;5;241m=\u001B[39mgrib_errors)\n\u001B[0;32m    777\u001B[0m index_keys \u001B[38;5;241m=\u001B[39m compute_index_keys(time_dims, extra_coords)\n\u001B[1;32m--> 778\u001B[0m index \u001B[38;5;241m=\u001B[39m \u001B[43mopen_fileindex\u001B[49m\u001B[43m(\u001B[49m\u001B[43mstream\u001B[49m\u001B[43m,\u001B[49m\u001B[43m \u001B[49m\u001B[43mindexpath\u001B[49m\u001B[43m,\u001B[49m\u001B[43m \u001B[49m\u001B[43mindex_keys\u001B[49m\u001B[43m,\u001B[49m\u001B[43m \u001B[49m\u001B[43mfilter_by_keys\u001B[49m\u001B[38;5;241;43m=\u001B[39;49m\u001B[43mfilter_by_keys\u001B[49m\u001B[43m)\u001B[49m\n\u001B[0;32m    780\u001B[0m \u001B[38;5;28;01mreturn\u001B[39;00m open_from_index(index, read_keys, time_dims, extra_coords, \u001B[38;5;241m*\u001B[39m\u001B[38;5;241m*\u001B[39mkwargs)\n",
      "File \u001B[1;32m~\\.conda\\envs\\scientific\\Lib\\site-packages\\cfgrib\\dataset.py:757\u001B[0m, in \u001B[0;36mopen_fileindex\u001B[1;34m(stream, indexpath, index_keys, filter_by_keys, computed_keys)\u001B[0m\n\u001B[0;32m    749\u001B[0m \u001B[38;5;28;01mdef\u001B[39;00m \u001B[38;5;21mopen_fileindex\u001B[39m(\n\u001B[0;32m    750\u001B[0m     stream: messages\u001B[38;5;241m.\u001B[39mFileStream,\n\u001B[0;32m    751\u001B[0m     indexpath: \u001B[38;5;28mstr\u001B[39m \u001B[38;5;241m=\u001B[39m messages\u001B[38;5;241m.\u001B[39mDEFAULT_INDEXPATH,\n\u001B[1;32m   (...)\u001B[0m\n\u001B[0;32m    754\u001B[0m     computed_keys: messages\u001B[38;5;241m.\u001B[39mComputedKeysType \u001B[38;5;241m=\u001B[39m cfmessage\u001B[38;5;241m.\u001B[39mCOMPUTED_KEYS,\n\u001B[0;32m    755\u001B[0m ) \u001B[38;5;241m-\u001B[39m\u001B[38;5;241m>\u001B[39m messages\u001B[38;5;241m.\u001B[39mFileIndex:\n\u001B[0;32m    756\u001B[0m     index_keys \u001B[38;5;241m=\u001B[39m \u001B[38;5;28msorted\u001B[39m(\u001B[38;5;28mset\u001B[39m(index_keys) \u001B[38;5;241m|\u001B[39m \u001B[38;5;28mset\u001B[39m(filter_by_keys))\n\u001B[1;32m--> 757\u001B[0m     index \u001B[38;5;241m=\u001B[39m \u001B[43mmessages\u001B[49m\u001B[38;5;241;43m.\u001B[39;49m\u001B[43mFileIndex\u001B[49m\u001B[38;5;241;43m.\u001B[39;49m\u001B[43mfrom_indexpath_or_filestream\u001B[49m\u001B[43m(\u001B[49m\n\u001B[0;32m    758\u001B[0m \u001B[43m        \u001B[49m\u001B[43mstream\u001B[49m\u001B[43m,\u001B[49m\u001B[43m \u001B[49m\u001B[43mindex_keys\u001B[49m\u001B[43m,\u001B[49m\u001B[43m \u001B[49m\u001B[43mindexpath\u001B[49m\u001B[38;5;241;43m=\u001B[39;49m\u001B[43mindexpath\u001B[49m\u001B[43m,\u001B[49m\u001B[43m \u001B[49m\u001B[43mcomputed_keys\u001B[49m\u001B[38;5;241;43m=\u001B[39;49m\u001B[43mcomputed_keys\u001B[49m\n\u001B[0;32m    759\u001B[0m \u001B[43m    \u001B[49m\u001B[43m)\u001B[49m\n\u001B[0;32m    760\u001B[0m     \u001B[38;5;28;01mreturn\u001B[39;00m index\u001B[38;5;241m.\u001B[39msubindex(filter_by_keys)\n",
      "File \u001B[1;32m~\\.conda\\envs\\scientific\\Lib\\site-packages\\cfgrib\\messages.py:561\u001B[0m, in \u001B[0;36mFileIndex.from_indexpath_or_filestream\u001B[1;34m(cls, filestream, index_keys, indexpath, computed_keys, log)\u001B[0m\n\u001B[0;32m    558\u001B[0m \u001B[38;5;28;01mexcept\u001B[39;00m \u001B[38;5;167;01mException\u001B[39;00m:\n\u001B[0;32m    559\u001B[0m     log\u001B[38;5;241m.\u001B[39mexception(\u001B[38;5;124m\"\u001B[39m\u001B[38;5;124mCan\u001B[39m\u001B[38;5;124m'\u001B[39m\u001B[38;5;124mt read index file \u001B[39m\u001B[38;5;132;01m%r\u001B[39;00m\u001B[38;5;124m\"\u001B[39m, indexpath)\n\u001B[1;32m--> 561\u001B[0m \u001B[38;5;28;01mreturn\u001B[39;00m \u001B[38;5;28;43mcls\u001B[39;49m\u001B[38;5;241;43m.\u001B[39;49m\u001B[43mfrom_fieldset\u001B[49m\u001B[43m(\u001B[49m\u001B[43mfilestream\u001B[49m\u001B[43m,\u001B[49m\u001B[43m \u001B[49m\u001B[43mindex_keys\u001B[49m\u001B[43m,\u001B[49m\u001B[43m \u001B[49m\u001B[43mcomputed_keys\u001B[49m\u001B[43m)\u001B[49m\n",
      "File \u001B[1;32m~\\.conda\\envs\\scientific\\Lib\\site-packages\\cfgrib\\messages.py:378\u001B[0m, in \u001B[0;36mFieldsetIndex.from_fieldset\u001B[1;34m(cls, fieldset, index_keys, computed_keys)\u001B[0m\n\u001B[0;32m    376\u001B[0m \u001B[38;5;28;01melse\u001B[39;00m:\n\u001B[0;32m    377\u001B[0m     iteritems \u001B[38;5;241m=\u001B[39m \u001B[38;5;28menumerate\u001B[39m(fieldset)\n\u001B[1;32m--> 378\u001B[0m \u001B[38;5;28;01mreturn\u001B[39;00m \u001B[38;5;28;43mcls\u001B[39;49m\u001B[38;5;241;43m.\u001B[39;49m\u001B[43mfrom_fieldset_and_iteritems\u001B[49m\u001B[43m(\u001B[49m\u001B[43mfieldset\u001B[49m\u001B[43m,\u001B[49m\u001B[43m \u001B[49m\u001B[43miteritems\u001B[49m\u001B[43m,\u001B[49m\u001B[43m \u001B[49m\u001B[43mindex_keys\u001B[49m\u001B[43m,\u001B[49m\u001B[43m \u001B[49m\u001B[43mcomputed_keys\u001B[49m\u001B[43m)\u001B[49m\n",
      "File \u001B[1;32m~\\.conda\\envs\\scientific\\Lib\\site-packages\\cfgrib\\messages.py:391\u001B[0m, in \u001B[0;36mFieldsetIndex.from_fieldset_and_iteritems\u001B[1;34m(cls, fieldset, iteritems, index_keys, computed_keys)\u001B[0m\n\u001B[0;32m    389\u001B[0m index_keys \u001B[38;5;241m=\u001B[39m \u001B[38;5;28mlist\u001B[39m(index_keys)\n\u001B[0;32m    390\u001B[0m header_values_cache \u001B[38;5;241m=\u001B[39m {}  \u001B[38;5;66;03m# type: T.Dict[T.Tuple[T.Any, type], T.Any]\u001B[39;00m\n\u001B[1;32m--> 391\u001B[0m \u001B[38;5;28;01mfor\u001B[39;00m field_id, raw_field \u001B[38;5;129;01min\u001B[39;00m iteritems:\n\u001B[0;32m    392\u001B[0m     field \u001B[38;5;241m=\u001B[39m ComputedKeysAdapter(raw_field, computed_keys)\n\u001B[0;32m    393\u001B[0m     header_values \u001B[38;5;241m=\u001B[39m []\n",
      "File \u001B[1;32m~\\.conda\\envs\\scientific\\Lib\\site-packages\\cfgrib\\messages.py:291\u001B[0m, in \u001B[0;36mFileStreamItems.__iter__\u001B[1;34m(self)\u001B[0m\n\u001B[0;32m    289\u001B[0m old_offset \u001B[38;5;241m=\u001B[39m \u001B[38;5;241m-\u001B[39m\u001B[38;5;241m1\u001B[39m\n\u001B[0;32m    290\u001B[0m count \u001B[38;5;241m=\u001B[39m \u001B[38;5;241m0\u001B[39m\n\u001B[1;32m--> 291\u001B[0m \u001B[38;5;28;01mfor\u001B[39;00m message \u001B[38;5;129;01min\u001B[39;00m \u001B[38;5;28mself\u001B[39m\u001B[38;5;241m.\u001B[39mitervalues():\n\u001B[0;32m    292\u001B[0m     offset \u001B[38;5;241m=\u001B[39m message\u001B[38;5;241m.\u001B[39mmessage_get(\u001B[38;5;124m\"\u001B[39m\u001B[38;5;124moffset\u001B[39m\u001B[38;5;124m\"\u001B[39m, \u001B[38;5;28mint\u001B[39m)\n\u001B[0;32m    293\u001B[0m     \u001B[38;5;28;01mif\u001B[39;00m offset \u001B[38;5;241m==\u001B[39m old_offset:\n",
      "File \u001B[1;32m~\\.conda\\envs\\scientific\\Lib\\site-packages\\cfgrib\\messages.py:277\u001B[0m, in \u001B[0;36mFileStreamItems.itervalues\u001B[1;34m(self)\u001B[0m\n\u001B[0;32m    275\u001B[0m \u001B[38;5;28;01mexcept\u001B[39;00m \u001B[38;5;167;01mEOFError\u001B[39;00m:\n\u001B[0;32m    276\u001B[0m     \u001B[38;5;28;01mif\u001B[39;00m \u001B[38;5;129;01mnot\u001B[39;00m valid_message_found:\n\u001B[1;32m--> 277\u001B[0m         \u001B[38;5;28;01mraise\u001B[39;00m \u001B[38;5;167;01mEOFError\u001B[39;00m(\u001B[38;5;124m\"\u001B[39m\u001B[38;5;124mNo valid message found: \u001B[39m\u001B[38;5;132;01m%r\u001B[39;00m\u001B[38;5;124m\"\u001B[39m \u001B[38;5;241m%\u001B[39m \u001B[38;5;28mself\u001B[39m\u001B[38;5;241m.\u001B[39mfilestream\u001B[38;5;241m.\u001B[39mpath)\n\u001B[0;32m    278\u001B[0m     \u001B[38;5;28;01mbreak\u001B[39;00m\n\u001B[0;32m    279\u001B[0m \u001B[38;5;28;01mexcept\u001B[39;00m \u001B[38;5;167;01mException\u001B[39;00m:\n",
      "\u001B[1;31mEOFError\u001B[0m: No valid message found: 'C:\\\\Users\\\\Daryl\\\\Downloads\\\\1.grib.grib'"
     ]
    }
   ],
   "source": [
    "ds = xr.load_dataset(r\"C:\\Users\\Daryl\\Downloads\\1.grib.grib\", engine='cfgrib')\n",
    "df = ds.to_dataframe().reset_index()\n",
    "df"
   ],
   "metadata": {
    "collapsed": false,
    "ExecuteTime": {
     "start_time": "2023-04-25T11:02:07.331936Z",
     "end_time": "2023-04-25T11:02:07.570732Z"
    }
   }
  },
  {
   "cell_type": "code",
   "execution_count": 8,
   "outputs": [
    {
     "data": {
      "text/plain": "   latitude  longitude   0\n0     31.25      121.0  16",
      "text/html": "<div>\n<style scoped>\n    .dataframe tbody tr th:only-of-type {\n        vertical-align: middle;\n    }\n\n    .dataframe tbody tr th {\n        vertical-align: top;\n    }\n\n    .dataframe thead th {\n        text-align: right;\n    }\n</style>\n<table border=\"1\" class=\"dataframe\">\n  <thead>\n    <tr style=\"text-align: right;\">\n      <th></th>\n      <th>latitude</th>\n      <th>longitude</th>\n      <th>0</th>\n    </tr>\n  </thead>\n  <tbody>\n    <tr>\n      <th>0</th>\n      <td>31.25</td>\n      <td>121.0</td>\n      <td>16</td>\n    </tr>\n  </tbody>\n</table>\n</div>"
     },
     "execution_count": 8,
     "metadata": {},
     "output_type": "execute_result"
    }
   ],
   "source": [
    "# unique combination of two dataframe columns\n",
    "df.groupby(['latitude', 'longitude']).size().reset_index()"
   ],
   "metadata": {
    "collapsed": false,
    "ExecuteTime": {
     "start_time": "2023-04-25T11:02:08.509760Z",
     "end_time": "2023-04-25T11:02:08.522313Z"
    }
   }
  },
  {
   "cell_type": "code",
   "execution_count": 23,
   "outputs": [
    {
     "data": {
      "text/plain": "                       file_id type                      date  \\\n0       cf_2017-01-01_tem.grib   cf  2017-01-01/to/2017-01-31   \n1    pf_2017-01-01_nontem.grib   pf  2017-01-01/to/2017-01-31   \n2       cf_2017-01-01_tem.grib   cf  2017-01-01/to/2017-01-31   \n3    pf_2017-01-01_nontem.grib   pf  2017-01-01/to/2017-01-31   \n4       cf_2017-02-01_tem.grib   cf  2017-02-01/to/2017-02-28   \n..                         ...  ...                       ...   \n283  pf_2022-11-01_nontem.grib   pf  2022-11-01/to/2022-11-30   \n284     cf_2022-12-01_tem.grib   cf  2022-12-01/to/2022-12-31   \n285  pf_2022-12-01_nontem.grib   pf  2022-12-01/to/2022-12-31   \n286     cf_2022-12-01_tem.grib   cf  2022-12-01/to/2022-12-31   \n287  pf_2022-12-01_nontem.grib   pf  2022-12-01/to/2022-12-31   \n\n                                   param            step  \n0                                121/122   0/to/360/by/6  \n1                                121/122   0/to/360/by/6  \n2    151/165/166/168/169/175/176/177/228  0/to/360/by/24  \n3    151/165/166/168/169/175/176/177/228  0/to/360/by/24  \n4                                121/122   0/to/360/by/6  \n..                                   ...             ...  \n283  151/165/166/168/169/175/176/177/228  0/to/360/by/24  \n284                              121/122   0/to/360/by/6  \n285                              121/122   0/to/360/by/6  \n286  151/165/166/168/169/175/176/177/228  0/to/360/by/24  \n287  151/165/166/168/169/175/176/177/228  0/to/360/by/24  \n\n[288 rows x 5 columns]",
      "text/html": "<div>\n<style scoped>\n    .dataframe tbody tr th:only-of-type {\n        vertical-align: middle;\n    }\n\n    .dataframe tbody tr th {\n        vertical-align: top;\n    }\n\n    .dataframe thead th {\n        text-align: right;\n    }\n</style>\n<table border=\"1\" class=\"dataframe\">\n  <thead>\n    <tr style=\"text-align: right;\">\n      <th></th>\n      <th>file_id</th>\n      <th>type</th>\n      <th>date</th>\n      <th>param</th>\n      <th>step</th>\n    </tr>\n  </thead>\n  <tbody>\n    <tr>\n      <th>0</th>\n      <td>cf_2017-01-01_tem.grib</td>\n      <td>cf</td>\n      <td>2017-01-01/to/2017-01-31</td>\n      <td>121/122</td>\n      <td>0/to/360/by/6</td>\n    </tr>\n    <tr>\n      <th>1</th>\n      <td>pf_2017-01-01_nontem.grib</td>\n      <td>pf</td>\n      <td>2017-01-01/to/2017-01-31</td>\n      <td>121/122</td>\n      <td>0/to/360/by/6</td>\n    </tr>\n    <tr>\n      <th>2</th>\n      <td>cf_2017-01-01_tem.grib</td>\n      <td>cf</td>\n      <td>2017-01-01/to/2017-01-31</td>\n      <td>151/165/166/168/169/175/176/177/228</td>\n      <td>0/to/360/by/24</td>\n    </tr>\n    <tr>\n      <th>3</th>\n      <td>pf_2017-01-01_nontem.grib</td>\n      <td>pf</td>\n      <td>2017-01-01/to/2017-01-31</td>\n      <td>151/165/166/168/169/175/176/177/228</td>\n      <td>0/to/360/by/24</td>\n    </tr>\n    <tr>\n      <th>4</th>\n      <td>cf_2017-02-01_tem.grib</td>\n      <td>cf</td>\n      <td>2017-02-01/to/2017-02-28</td>\n      <td>121/122</td>\n      <td>0/to/360/by/6</td>\n    </tr>\n    <tr>\n      <th>...</th>\n      <td>...</td>\n      <td>...</td>\n      <td>...</td>\n      <td>...</td>\n      <td>...</td>\n    </tr>\n    <tr>\n      <th>283</th>\n      <td>pf_2022-11-01_nontem.grib</td>\n      <td>pf</td>\n      <td>2022-11-01/to/2022-11-30</td>\n      <td>151/165/166/168/169/175/176/177/228</td>\n      <td>0/to/360/by/24</td>\n    </tr>\n    <tr>\n      <th>284</th>\n      <td>cf_2022-12-01_tem.grib</td>\n      <td>cf</td>\n      <td>2022-12-01/to/2022-12-31</td>\n      <td>121/122</td>\n      <td>0/to/360/by/6</td>\n    </tr>\n    <tr>\n      <th>285</th>\n      <td>pf_2022-12-01_nontem.grib</td>\n      <td>pf</td>\n      <td>2022-12-01/to/2022-12-31</td>\n      <td>121/122</td>\n      <td>0/to/360/by/6</td>\n    </tr>\n    <tr>\n      <th>286</th>\n      <td>cf_2022-12-01_tem.grib</td>\n      <td>cf</td>\n      <td>2022-12-01/to/2022-12-31</td>\n      <td>151/165/166/168/169/175/176/177/228</td>\n      <td>0/to/360/by/24</td>\n    </tr>\n    <tr>\n      <th>287</th>\n      <td>pf_2022-12-01_nontem.grib</td>\n      <td>pf</td>\n      <td>2022-12-01/to/2022-12-31</td>\n      <td>151/165/166/168/169/175/176/177/228</td>\n      <td>0/to/360/by/24</td>\n    </tr>\n  </tbody>\n</table>\n<p>288 rows × 5 columns</p>\n</div>"
     },
     "execution_count": 23,
     "metadata": {},
     "output_type": "execute_result"
    }
   ],
   "source": [
    "def generate_enfo_req():\n",
    "    \"\"\"Generate requests string to send request\"\"\"\n",
    "    dates = [f'{year}-{month:02}-01/to/{year}-{month:02}-{monthrange(year, month)[1]}' for year in range(2017, 2023) for month in range(1, 13)]  # get all date to be looped\n",
    "    param_steps = [['121/122', '0/to/360/by/6'], ['151/165/166/168/169/175/176/177/228', '0/to/360/by/24']]\n",
    "    area = '31.375/121/31.25/121.125'  # Kunshan\n",
    "\n",
    "    all_req_kw = []\n",
    "    for date in dates:\n",
    "        for param_step in param_steps:\n",
    "            # [file_id, type, date, param, step, is_num]\n",
    "            req1 = [f'cf_{date[:10]}_tem.grib', 'cf', date] + param_step\n",
    "            req2 = [f'pf_{date[:10]}_nontem.grib', 'pf', date] + param_step\n",
    "            all_req_kw.append(req1)\n",
    "            all_req_kw.append(req2)\n",
    "\n",
    "    req_df = pd.DataFrame(all_req_kw, columns=['file_id', 'type', 'date', 'param', 'step'])\n",
    "    return req_df\n",
    "df1 = generate_enfo_req()\n",
    "df1\n",
    "\n"
   ],
   "metadata": {
    "collapsed": false,
    "ExecuteTime": {
     "start_time": "2023-04-25T11:43:47.407959Z",
     "end_time": "2023-04-25T11:43:47.418801Z"
    }
   }
  },
  {
   "cell_type": "code",
   "execution_count": 14,
   "outputs": [
    {
     "data": {
      "text/plain": "        number            step  values       time  surface   latitude  \\\n0            1 0 days 01:00:00       0 2022-05-05      0.0  24.951189   \n1            1 0 days 01:00:00       1 2022-05-05      0.0  24.951189   \n2            1 0 days 01:00:00       2 2022-05-05      0.0  24.951189   \n3            1 0 days 01:00:00       3 2022-05-05      0.0  24.951189   \n4            1 0 days 01:00:00       4 2022-05-05      0.0  24.951189   \n...        ...             ...     ...        ...      ...        ...   \n341595      50 0 days 07:00:00     971 2022-05-05      0.0  20.031236   \n341596      50 0 days 07:00:00     972 2022-05-05      0.0  20.031236   \n341597      50 0 days 07:00:00     973 2022-05-05      0.0  20.031236   \n341598      50 0 days 07:00:00     974 2022-05-05      0.0  20.031236   \n341599      50 0 days 07:00:00     975 2022-05-05      0.0  20.031236   \n\n        longitude          valid_time       mx2t3      fg310  \n0       30.064240 2022-05-05 01:00:00  295.468994   5.346617  \n1       30.256959 2022-05-05 01:00:00  296.340088   6.701109  \n2       30.449679 2022-05-05 01:00:00  296.476807   7.845640  \n3       30.642398 2022-05-05 01:00:00  296.699463   7.159117  \n4       30.835118 2022-05-05 01:00:00  296.179932   6.790953  \n...           ...                 ...         ...        ...  \n341595  34.243028 2022-05-05 07:00:00  306.515137   9.056246  \n341596  34.422311 2022-05-05 07:00:00  306.634277  10.749605  \n341597  34.601594 2022-05-05 07:00:00  306.630371  12.486910  \n341598  34.780876 2022-05-05 07:00:00  306.263184  13.127535  \n341599  34.960159 2022-05-05 07:00:00  305.870605  12.714449  \n\n[341600 rows x 10 columns]",
      "text/html": "<div>\n<style scoped>\n    .dataframe tbody tr th:only-of-type {\n        vertical-align: middle;\n    }\n\n    .dataframe tbody tr th {\n        vertical-align: top;\n    }\n\n    .dataframe thead th {\n        text-align: right;\n    }\n</style>\n<table border=\"1\" class=\"dataframe\">\n  <thead>\n    <tr style=\"text-align: right;\">\n      <th></th>\n      <th>number</th>\n      <th>step</th>\n      <th>values</th>\n      <th>time</th>\n      <th>surface</th>\n      <th>latitude</th>\n      <th>longitude</th>\n      <th>valid_time</th>\n      <th>mx2t3</th>\n      <th>fg310</th>\n    </tr>\n  </thead>\n  <tbody>\n    <tr>\n      <th>0</th>\n      <td>1</td>\n      <td>0 days 01:00:00</td>\n      <td>0</td>\n      <td>2022-05-05</td>\n      <td>0.0</td>\n      <td>24.951189</td>\n      <td>30.064240</td>\n      <td>2022-05-05 01:00:00</td>\n      <td>295.468994</td>\n      <td>5.346617</td>\n    </tr>\n    <tr>\n      <th>1</th>\n      <td>1</td>\n      <td>0 days 01:00:00</td>\n      <td>1</td>\n      <td>2022-05-05</td>\n      <td>0.0</td>\n      <td>24.951189</td>\n      <td>30.256959</td>\n      <td>2022-05-05 01:00:00</td>\n      <td>296.340088</td>\n      <td>6.701109</td>\n    </tr>\n    <tr>\n      <th>2</th>\n      <td>1</td>\n      <td>0 days 01:00:00</td>\n      <td>2</td>\n      <td>2022-05-05</td>\n      <td>0.0</td>\n      <td>24.951189</td>\n      <td>30.449679</td>\n      <td>2022-05-05 01:00:00</td>\n      <td>296.476807</td>\n      <td>7.845640</td>\n    </tr>\n    <tr>\n      <th>3</th>\n      <td>1</td>\n      <td>0 days 01:00:00</td>\n      <td>3</td>\n      <td>2022-05-05</td>\n      <td>0.0</td>\n      <td>24.951189</td>\n      <td>30.642398</td>\n      <td>2022-05-05 01:00:00</td>\n      <td>296.699463</td>\n      <td>7.159117</td>\n    </tr>\n    <tr>\n      <th>4</th>\n      <td>1</td>\n      <td>0 days 01:00:00</td>\n      <td>4</td>\n      <td>2022-05-05</td>\n      <td>0.0</td>\n      <td>24.951189</td>\n      <td>30.835118</td>\n      <td>2022-05-05 01:00:00</td>\n      <td>296.179932</td>\n      <td>6.790953</td>\n    </tr>\n    <tr>\n      <th>...</th>\n      <td>...</td>\n      <td>...</td>\n      <td>...</td>\n      <td>...</td>\n      <td>...</td>\n      <td>...</td>\n      <td>...</td>\n      <td>...</td>\n      <td>...</td>\n      <td>...</td>\n    </tr>\n    <tr>\n      <th>341595</th>\n      <td>50</td>\n      <td>0 days 07:00:00</td>\n      <td>971</td>\n      <td>2022-05-05</td>\n      <td>0.0</td>\n      <td>20.031236</td>\n      <td>34.243028</td>\n      <td>2022-05-05 07:00:00</td>\n      <td>306.515137</td>\n      <td>9.056246</td>\n    </tr>\n    <tr>\n      <th>341596</th>\n      <td>50</td>\n      <td>0 days 07:00:00</td>\n      <td>972</td>\n      <td>2022-05-05</td>\n      <td>0.0</td>\n      <td>20.031236</td>\n      <td>34.422311</td>\n      <td>2022-05-05 07:00:00</td>\n      <td>306.634277</td>\n      <td>10.749605</td>\n    </tr>\n    <tr>\n      <th>341597</th>\n      <td>50</td>\n      <td>0 days 07:00:00</td>\n      <td>973</td>\n      <td>2022-05-05</td>\n      <td>0.0</td>\n      <td>20.031236</td>\n      <td>34.601594</td>\n      <td>2022-05-05 07:00:00</td>\n      <td>306.630371</td>\n      <td>12.486910</td>\n    </tr>\n    <tr>\n      <th>341598</th>\n      <td>50</td>\n      <td>0 days 07:00:00</td>\n      <td>974</td>\n      <td>2022-05-05</td>\n      <td>0.0</td>\n      <td>20.031236</td>\n      <td>34.780876</td>\n      <td>2022-05-05 07:00:00</td>\n      <td>306.263184</td>\n      <td>13.127535</td>\n    </tr>\n    <tr>\n      <th>341599</th>\n      <td>50</td>\n      <td>0 days 07:00:00</td>\n      <td>975</td>\n      <td>2022-05-05</td>\n      <td>0.0</td>\n      <td>20.031236</td>\n      <td>34.960159</td>\n      <td>2022-05-05 07:00:00</td>\n      <td>305.870605</td>\n      <td>12.714449</td>\n    </tr>\n  </tbody>\n</table>\n<p>341600 rows × 10 columns</p>\n</div>"
     },
     "execution_count": 14,
     "metadata": {},
     "output_type": "execute_result"
    }
   ],
   "source": [
    "df"
   ],
   "metadata": {
    "collapsed": false,
    "ExecuteTime": {
     "start_time": "2023-04-24T18:10:42.449048Z",
     "end_time": "2023-04-24T18:10:42.465280Z"
    }
   }
  },
  {
   "cell_type": "code",
   "execution_count": 5,
   "outputs": [
    {
     "name": "stdout",
     "output_type": "stream",
     "text": [
      "22.89 87.8\n"
     ]
    }
   ],
   "source": [
    "def get_temp_rh(hex_string: str):\n",
    "    \"\"\"Return value of temperature and rh for every returning of soil humidity sensor of MS20\n",
    "    example string: 01 04 06 (07 E0)temp (0F 01)rh 09 23 AABB\n",
    "    \"\"\"\n",
    "    temp_hex = hex_string[6:8]\n",
    "    rh_hex = hex_string[8:10]\n",
    "\n",
    "    temp = (int(temp_hex[:2], 16) * 256 + int(temp_hex[-2:], 16))/100\n",
    "    rh = (int(rh_hex[:2], 16) * 256 + int(rh_hex[-2:], 16))/100\n",
    "\n",
    "    return temp, rh\n"
   ],
   "metadata": {
    "collapsed": false,
    "ExecuteTime": {
     "start_time": "2023-04-25T18:57:54.986873Z",
     "end_time": "2023-04-25T18:57:54.993846Z"
    }
   }
  }
 ],
 "metadata": {
  "kernelspec": {
   "display_name": "Python 3",
   "language": "python",
   "name": "python3"
  },
  "language_info": {
   "codemirror_mode": {
    "name": "ipython",
    "version": 2
   },
   "file_extension": ".py",
   "mimetype": "text/x-python",
   "name": "python",
   "nbconvert_exporter": "python",
   "pygments_lexer": "ipython2",
   "version": "2.7.6"
  }
 },
 "nbformat": 4,
 "nbformat_minor": 0
}
